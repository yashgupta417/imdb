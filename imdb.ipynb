{
  "nbformat": 4,
  "nbformat_minor": 0,
  "metadata": {
    "colab": {
      "name": "imdb.ipynb",
      "provenance": [],
      "collapsed_sections": [],
      "mount_file_id": "1ZVWv1Tf3-CyIKEEwVntQ-ME9rZKrRij0",
      "authorship_tag": "ABX9TyMdscyqa/wXoy5Ij5A9sW0j",
      "include_colab_link": true
    },
    "kernelspec": {
      "name": "python3",
      "display_name": "Python 3"
    },
    "accelerator": "GPU"
  },
  "cells": [
    {
      "cell_type": "markdown",
      "metadata": {
        "id": "view-in-github",
        "colab_type": "text"
      },
      "source": [
        "<a href=\"https://colab.research.google.com/github/yashgupta417/imdb/blob/master/imdb.ipynb\" target=\"_parent\"><img src=\"https://colab.research.google.com/assets/colab-badge.svg\" alt=\"Open In Colab\"/></a>"
      ]
    },
    {
      "cell_type": "code",
      "metadata": {
        "id": "_DEd8v6ZmOMp",
        "colab_type": "code",
        "outputId": "bee64737-db55-48ac-bc40-4dba5b524150",
        "colab": {
          "base_uri": "https://localhost:8080/",
          "height": 34
        }
      },
      "source": [
        "import numpy as np\n",
        "from keras.datasets import imdb\n",
        "from keras.models import Sequential\n",
        "from keras.layers import Dense,LSTM\n",
        "from keras.layers.embeddings import Embedding\n",
        "from keras.preprocessing import sequence"
      ],
      "execution_count": 1,
      "outputs": [
        {
          "output_type": "stream",
          "text": [
            "Using TensorFlow backend.\n"
          ],
          "name": "stderr"
        }
      ]
    },
    {
      "cell_type": "code",
      "metadata": {
        "id": "rNb42BjGmZEi",
        "colab_type": "code",
        "colab": {}
      },
      "source": [
        "vocab_size=5000\n",
        "(X_train,y_train),(X_test,y_test)=imdb.load_data(num_words=vocab_size)"
      ],
      "execution_count": 0,
      "outputs": []
    },
    {
      "cell_type": "code",
      "metadata": {
        "id": "WaQyeMuWmdHS",
        "colab_type": "code",
        "outputId": "9f9f7563-d06b-4e37-a0a0-62d7eaedb3f1",
        "colab": {
          "base_uri": "https://localhost:8080/",
          "height": 34
        }
      },
      "source": [
        "#data is already preprocessed\n",
        "X_train[1][:10]#first 10 words of review 1"
      ],
      "execution_count": 3,
      "outputs": [
        {
          "output_type": "execute_result",
          "data": {
            "text/plain": [
              "[1, 194, 1153, 194, 2, 78, 228, 5, 6, 1463]"
            ]
          },
          "metadata": {
            "tags": []
          },
          "execution_count": 3
        }
      ]
    },
    {
      "cell_type": "code",
      "metadata": {
        "id": "s5JVxiMumv8z",
        "colab_type": "code",
        "outputId": "9e4bad3f-e98e-438f-c7c5-1f37b4b68365",
        "colab": {
          "base_uri": "https://localhost:8080/",
          "height": 34
        }
      },
      "source": [
        "#we need padding to perform batch SGD\n",
        "max_review_length=600\n",
        "X_train=sequence.pad_sequences(X_train,maxlen=max_review_length)\n",
        "X_test=sequence.pad_sequences(X_test,maxlen=max_review_length)\n",
        "X_train.shape"
      ],
      "execution_count": 4,
      "outputs": [
        {
          "output_type": "execute_result",
          "data": {
            "text/plain": [
              "(25000, 600)"
            ]
          },
          "metadata": {
            "tags": []
          },
          "execution_count": 4
        }
      ]
    },
    {
      "cell_type": "code",
      "metadata": {
        "id": "DPXMjrvvnQD5",
        "colab_type": "code",
        "outputId": "1fd8ba16-23e3-446f-bca2-140bc01ab47f",
        "colab": {
          "base_uri": "https://localhost:8080/",
          "height": 286
        }
      },
      "source": [
        "embedded_vector_length=32\n",
        "model=Sequential()\n",
        "#Embedding layer can be used as Layer 1 only,it is like word2vec but model is learning it as part of task\n",
        "model.add(Embedding(vocab_size,embedded_vector_length,input_length=max_review_length))#params=4*(nm+n^2+n) m:inputs n:outputs\n",
        "model.add(LSTM(100,return_sequences=True))\n",
        "model.add(LSTM(100))\n",
        "model.add(Dense(1,activation='sigmoid'))\n",
        "model.compile(loss='binary_crossentropy',optimizer='adam',metrics=['accuracy'])\n",
        "model.summary()"
      ],
      "execution_count": 9,
      "outputs": [
        {
          "output_type": "stream",
          "text": [
            "Model: \"sequential_2\"\n",
            "_________________________________________________________________\n",
            "Layer (type)                 Output Shape              Param #   \n",
            "=================================================================\n",
            "embedding_2 (Embedding)      (None, 600, 32)           160000    \n",
            "_________________________________________________________________\n",
            "lstm_4 (LSTM)                (None, 600, 100)          53200     \n",
            "_________________________________________________________________\n",
            "lstm_5 (LSTM)                (None, 100)               80400     \n",
            "_________________________________________________________________\n",
            "dense_2 (Dense)              (None, 1)                 101       \n",
            "=================================================================\n",
            "Total params: 293,701\n",
            "Trainable params: 293,701\n",
            "Non-trainable params: 0\n",
            "_________________________________________________________________\n"
          ],
          "name": "stdout"
        }
      ]
    },
    {
      "cell_type": "code",
      "metadata": {
        "id": "B-HJYKYdqFs8",
        "colab_type": "code",
        "colab": {
          "base_uri": "https://localhost:8080/",
          "height": 706
        },
        "outputId": "f9078c3b-c0e3-4200-cc6c-b2cb61b4fd8b"
      },
      "source": [
        "history=model.fit(X_train,y_train,batch_size=2048,epochs=20,validation_data=(X_test,y_test))"
      ],
      "execution_count": 11,
      "outputs": [
        {
          "output_type": "stream",
          "text": [
            "Train on 25000 samples, validate on 25000 samples\n",
            "Epoch 1/20\n",
            "25000/25000 [==============================] - 43s 2ms/step - loss: 0.6888 - accuracy: 0.5400 - val_loss: 0.6302 - val_accuracy: 0.6438\n",
            "Epoch 2/20\n",
            "25000/25000 [==============================] - 45s 2ms/step - loss: 0.5719 - accuracy: 0.7119 - val_loss: 0.5288 - val_accuracy: 0.7376\n",
            "Epoch 3/20\n",
            "25000/25000 [==============================] - 46s 2ms/step - loss: 0.6456 - accuracy: 0.7627 - val_loss: 0.4896 - val_accuracy: 0.7920\n",
            "Epoch 4/20\n",
            "25000/25000 [==============================] - 44s 2ms/step - loss: 0.4546 - accuracy: 0.7959 - val_loss: 0.4118 - val_accuracy: 0.8209\n",
            "Epoch 5/20\n",
            "25000/25000 [==============================] - 44s 2ms/step - loss: 0.3682 - accuracy: 0.8433 - val_loss: 0.3883 - val_accuracy: 0.8325\n",
            "Epoch 6/20\n",
            "25000/25000 [==============================] - 45s 2ms/step - loss: 0.3254 - accuracy: 0.8682 - val_loss: 0.3794 - val_accuracy: 0.8362\n",
            "Epoch 7/20\n",
            "25000/25000 [==============================] - 45s 2ms/step - loss: 0.2935 - accuracy: 0.8843 - val_loss: 0.3728 - val_accuracy: 0.8418\n",
            "Epoch 8/20\n",
            "25000/25000 [==============================] - 44s 2ms/step - loss: 0.2699 - accuracy: 0.8983 - val_loss: 0.3807 - val_accuracy: 0.8439\n",
            "Epoch 9/20\n",
            "25000/25000 [==============================] - 44s 2ms/step - loss: 0.2535 - accuracy: 0.9059 - val_loss: 0.3740 - val_accuracy: 0.8440\n",
            "Epoch 10/20\n",
            "25000/25000 [==============================] - 45s 2ms/step - loss: 0.2377 - accuracy: 0.9138 - val_loss: 0.3769 - val_accuracy: 0.8453\n",
            "Epoch 11/20\n",
            "25000/25000 [==============================] - 44s 2ms/step - loss: 0.2236 - accuracy: 0.9197 - val_loss: 0.3730 - val_accuracy: 0.8472\n",
            "Epoch 12/20\n",
            "25000/25000 [==============================] - 44s 2ms/step - loss: 0.2074 - accuracy: 0.9272 - val_loss: 0.3912 - val_accuracy: 0.8526\n",
            "Epoch 13/20\n",
            "25000/25000 [==============================] - 44s 2ms/step - loss: 0.2032 - accuracy: 0.9292 - val_loss: 0.3921 - val_accuracy: 0.8507\n",
            "Epoch 14/20\n",
            "25000/25000 [==============================] - 44s 2ms/step - loss: 0.1951 - accuracy: 0.9325 - val_loss: 0.3887 - val_accuracy: 0.8402\n",
            "Epoch 15/20\n",
            "25000/25000 [==============================] - 44s 2ms/step - loss: 0.1989 - accuracy: 0.9296 - val_loss: 0.3984 - val_accuracy: 0.8289\n",
            "Epoch 16/20\n",
            "25000/25000 [==============================] - 43s 2ms/step - loss: 0.2243 - accuracy: 0.9156 - val_loss: 0.3986 - val_accuracy: 0.8428\n",
            "Epoch 17/20\n",
            "25000/25000 [==============================] - 44s 2ms/step - loss: 0.1971 - accuracy: 0.9312 - val_loss: 0.3902 - val_accuracy: 0.8474\n",
            "Epoch 18/20\n",
            "25000/25000 [==============================] - 44s 2ms/step - loss: 0.1823 - accuracy: 0.9377 - val_loss: 0.4243 - val_accuracy: 0.8464\n",
            "Epoch 19/20\n",
            "25000/25000 [==============================] - 44s 2ms/step - loss: 0.1938 - accuracy: 0.9311 - val_loss: 0.4106 - val_accuracy: 0.8389\n",
            "Epoch 20/20\n",
            "25000/25000 [==============================] - 45s 2ms/step - loss: 0.1731 - accuracy: 0.9432 - val_loss: 0.4067 - val_accuracy: 0.8490\n"
          ],
          "name": "stdout"
        }
      ]
    },
    {
      "cell_type": "code",
      "metadata": {
        "id": "hpUEoSZCvLRB",
        "colab_type": "code",
        "outputId": "84803fb6-95b2-496b-8f9d-0c8f48fedaa5",
        "colab": {
          "base_uri": "https://localhost:8080/",
          "height": 34
        }
      },
      "source": [
        "scores=model.evaluate(X_test,y_test,verbose=0,batch_size=4096)\n",
        "print(\"accuracy\",scores[1]*100)"
      ],
      "execution_count": 12,
      "outputs": [
        {
          "output_type": "stream",
          "text": [
            "accuracy 84.89599823951721\n"
          ],
          "name": "stdout"
        }
      ]
    },
    {
      "cell_type": "code",
      "metadata": {
        "id": "pprwC7glwzsS",
        "colab_type": "code",
        "colab": {
          "base_uri": "https://localhost:8080/",
          "height": 279
        },
        "outputId": "4bb26155-d1c1-4d6d-ef05-32d440a31ac3"
      },
      "source": [
        "import matplotlib.pyplot as plt\n",
        "fig,ax=plt.subplots(1,1)\n",
        "ax.set_xlabel('epoch')\n",
        "ax.set_ylabel('loss')\n",
        "\n",
        "x=list(range(1,20+1))\n",
        "\n",
        "vy=history.history['val_loss']\n",
        "ty=history.history['loss']\n",
        "\n",
        "def plt_dynamic(x,y,y_1,ax,colors=['b']):\n",
        "    ax.plot(x,y,'b',label='Train loss')\n",
        "    ax.plot(x,y_1,'r',label='Test loss')\n",
        "    plt.legend()\n",
        "    fig.canvas.draw()\n",
        "plt_dynamic(x,vy,ty,ax)"
      ],
      "execution_count": 14,
      "outputs": [
        {
          "output_type": "display_data",
          "data": {
            "image/png": "[encoded data removed]",
            "text/plain": [
              "<Figure size 432x288 with 1 Axes>"
            ]
          },
          "metadata": {
            "tags": [],
            "needs_background": "light"
          }
        }
      ]
    },
    {
      "cell_type": "code",
      "metadata": {
        "id": "8Ag7TsB3AYY6",
        "colab_type": "code",
        "colab": {}
      },
      "source": [
        ""
      ],
      "execution_count": 0,
      "outputs": []
    }
  ]
}