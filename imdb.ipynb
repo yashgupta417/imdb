{
  "nbformat": 4,
  "nbformat_minor": 0,
  "metadata": {
    "colab": {
      "name": "imdb.ipynb",
      "provenance": [],
      "collapsed_sections": [],
      "mount_file_id": "1ZVWv1Tf3-CyIKEEwVntQ-ME9rZKrRij0",
      "authorship_tag": "ABX9TyNj+VLutNO6CVCIkFj5Dps9",
      "include_colab_link": true
    },
    "kernelspec": {
      "name": "python3",
      "display_name": "Python 3"
    }
  },
  "cells": [
    {
      "cell_type": "markdown",
      "metadata": {
        "id": "view-in-github",
        "colab_type": "text"
      },
      "source": [
        "<a href=\"https://colab.research.google.com/github/yashgupta417/imdb/blob/master/imdb.ipynb\" target=\"_parent\"><img src=\"https://colab.research.google.com/assets/colab-badge.svg\" alt=\"Open In Colab\"/></a>"
      ]
    },
    {
      "cell_type": "code",
      "metadata": {
        "id": "_DEd8v6ZmOMp",
        "colab_type": "code",
        "colab": {
          "base_uri": "https://localhost:8080/",
          "height": 34
        },
        "outputId": "942e66d2-6ed6-4943-82f1-ee31a9c7a7a8"
      },
      "source": [
        "import numpy as np\n",
        "from keras.datasets import imdb\n",
        "from keras.models import Sequential\n",
        "from keras.layers import Dense,LSTM\n",
        "from keras.layers.embeddings import Embedding\n",
        "from keras.preprocessing import sequence"
      ],
      "execution_count": 1,
      "outputs": [
        {
          "output_type": "stream",
          "text": [
            "Using TensorFlow backend.\n"
          ],
          "name": "stderr"
        }
      ]
    },
    {
      "cell_type": "code",
      "metadata": {
        "id": "rNb42BjGmZEi",
        "colab_type": "code",
        "colab": {
          "base_uri": "https://localhost:8080/",
          "height": 50
        },
        "outputId": "162ab382-04d0-4d7d-bf67-2302036fec0b"
      },
      "source": [
        "vocab_size=5000\n",
        "(X_train,y_train),(X_test,y_test)=imdb.load_data(num_words=vocab_size)"
      ],
      "execution_count": 3,
      "outputs": [
        {
          "output_type": "stream",
          "text": [
            "Downloading data from https://s3.amazonaws.com/text-datasets/imdb.npz\n",
            "17465344/17464789 [==============================] - 1s 0us/step\n"
          ],
          "name": "stdout"
        }
      ]
    },
    {
      "cell_type": "code",
      "metadata": {
        "id": "WaQyeMuWmdHS",
        "colab_type": "code",
        "colab": {
          "base_uri": "https://localhost:8080/",
          "height": 34
        },
        "outputId": "c2f4f712-173d-4bb1-f0e4-6ee39cd1efd9"
      },
      "source": [
        "#data is already preprocessed\n",
        "X_train[1][:10]#first 10 words of review 1"
      ],
      "execution_count": 4,
      "outputs": [
        {
          "output_type": "execute_result",
          "data": {
            "text/plain": [
              "[1, 194, 1153, 194, 2, 78, 228, 5, 6, 1463]"
            ]
          },
          "metadata": {
            "tags": []
          },
          "execution_count": 4
        }
      ]
    },
    {
      "cell_type": "code",
      "metadata": {
        "id": "s5JVxiMumv8z",
        "colab_type": "code",
        "colab": {
          "base_uri": "https://localhost:8080/",
          "height": 34
        },
        "outputId": "cf838ee9-5fd5-4b09-c715-67291cce3560"
      },
      "source": [
        "#we need padding to perform batch SGD\n",
        "max_review_length=600\n",
        "X_train=sequence.pad_sequences(X_train,maxlen=max_review_length)\n",
        "X_test=sequence.pad_sequences(X_test,maxlen=max_review_length)\n",
        "X_train.shape"
      ],
      "execution_count": 5,
      "outputs": [
        {
          "output_type": "execute_result",
          "data": {
            "text/plain": [
              "(25000, 600)"
            ]
          },
          "metadata": {
            "tags": []
          },
          "execution_count": 5
        }
      ]
    },
    {
      "cell_type": "code",
      "metadata": {
        "id": "V7t8Rrcimygt",
        "colab_type": "code",
        "colab": {}
      },
      "source": [
        "####"
      ],
      "execution_count": 0,
      "outputs": []
    }
  ]
}